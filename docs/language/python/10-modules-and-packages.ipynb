{
 "cells": [
  {
   "cell_type": "markdown",
   "metadata": {},
   "source": [
    "# 模块和包"
   ]
  },
  {
   "cell_type": "markdown",
   "metadata": {},
   "source": [
    "我们 **把一个文件看做一个模块**，使用 `import` 语句可以在其他文件中导入模块。在导入了模块后，我们就可以在之后的代码中使用模块中定义的变量和函数了。"
   ]
  },
  {
   "cell_type": "code",
   "execution_count": null,
   "metadata": {},
   "outputs": [],
   "source": [
    "from modules_and_packages import mymodule\n",
    "\n",
    "mymodule.my_func()"
   ]
  },
  {
   "cell_type": "markdown",
   "metadata": {},
   "source": [
    "我们 **把包含 `__init__.py` 文件的目录看做包**，在使用 `from` 语句导入包中的模块时，注意到以下区别：\n",
    "\n",
    "```python\n",
    "from package_name import *\n",
    "```\n",
    "\n",
    "上面这段代码表示，存在一个 `package_name` 的文件夹，默认情况下会导入该文件夹下的所有文件，这在 `__init__.py` 内容为空的时候生效。\n",
    "\n",
    "但是，如果你定义了一个 `__init__.py` 中声明了下面的内容：\n",
    "\n",
    "```python\n",
    "__all__ = ['foo', 'bar']\n",
    "```\n",
    "\n",
    "这表示我们只需要导入 `foo` 和 `bar` 这两个模块，忽略其他的模块。"
   ]
  },
  {
   "cell_type": "markdown",
   "metadata": {},
   "source": [
    "你如果在 PyCharm 中编辑代码，很多环境问题可能不会碰到，因为 PyCharm 已经作为一个沙箱帮你部署好了。但是如果你正在使用命令行工具运行代码，比如 PowerShell，很可能会遇到下面这种报错：\n",
    "\n",
    "```bash\n",
    "ModuleNotFoundError: \n",
    "```\n",
    "\n",
    "这通常是因为 Python 解释器找不到 `.py` 文件了。这时候，你应该检查下面几个注意事项：\n",
    "\n",
    "1、是不是在在项目的根目录下运行 `python example.py`\n",
    "\n",
    "2、检查当前 Python 的搜索路径是否包含了那个找不到的 `.py` 文件"
   ]
  },
  {
   "cell_type": "code",
   "execution_count": null,
   "metadata": {},
   "outputs": [],
   "source": [
    "import sys\n",
    "\n",
    "paths = sys.path\n",
    "for path in paths:\n",
    "    print(path)"
   ]
  },
  {
   "cell_type": "markdown",
   "metadata": {},
   "source": [
    "注：空字符串代表当前目录. 要加入新的搜索路径,只需要将这个路径加入到这个列表。\n",
    "\n",
    "当查询 `foo` 模块时，Python 解释器会在 `sys.path` 列表中搜索以下文件：\n",
    "\n",
    "- 定义为一个包的目录 `foo`\n",
    "- `foo.so`、`foomodule.so`、`foomodule.sl` 或 `foomodule.dll`（已编译扩展）\n",
    "- `foo.pyo`（只在使用 `-O` 或 `-OO` 选项时）\n",
    "- `foo.pyc`\n",
    "- `foo.py`\n",
    "\n",
    "除此之外，当 Python 导入一个包时，它定义了一个包含目录列表的特殊变量 `__path__`，它用于查找包的模块（`__path__` 与 `sys.path` 变量的作用相似）。可以在 `__init__.py` 文件中访问 `__path__` 变量。这个列表的初始值只有一个元素，即包的目录。只要你觉得必要，一个包也可以到其他的目录中去搜索模块（在 `__path__` 增加要搜索的目录），换言之，一个模块可以属于一个包，却不位于这个包所在的目录或子目录下。\n",
    "\n",
    "有两种方式可以 **临时修改** Python 的搜索路径："
   ]
  },
  {
   "cell_type": "code",
   "execution_count": 4,
   "metadata": {},
   "outputs": [
    {
     "name": "stdout",
     "output_type": "stream",
     "text": [
      "d:\\local_workshop\\getstarted\\docs\\language\\python\n",
      "d:\\local_workshop\\getstarted\\docs\\language\\python\n",
      "d:\\local_workshop\\getstarted\\docs\\language\\python\n",
      "d:\\local_workshop\\getstarted\\docs\\language\\python\n",
      "d:\\local_workshop\\getstarted\\docs\\language\\python\n",
      "d:\\ProgramData\\Python3114\\python311.zip\n",
      "d:\\ProgramData\\Python3114\\DLLs\n",
      "d:\\ProgramData\\Python3114\\Lib\n",
      "d:\\ProgramData\\Python3114\n",
      "\n",
      "d:\\ProgramData\\Python3114\\Lib\\site-packages\n",
      "d:\\ProgramData\\Python3114\\Lib\\site-packages\\win32\n",
      "d:\\ProgramData\\Python3114\\Lib\\site-packages\\win32\\lib\n",
      "d:\\ProgramData\\Python3114\\Lib\\site-packages\\Pythonwin\n",
      "d:\\local_workshop\\getstarted\\docs\\language\\python\n",
      "d:\\local_workshop\\getstarted\\docs\\language\\python\n",
      "d:\\local_workshop\\getstarted\\docs\\language\\python\n",
      "d:\\local_workshop\\getstarted\\docs\\language\\python\n"
     ]
    }
   ],
   "source": [
    "import os\n",
    "import sys\n",
    "\n",
    "# 加入当前目录到 sys.path\n",
    "sys.path.append(os.getcwd())\n",
    "\n",
    "# 定义搜索优先顺序，序号从 0 开始，表示最大优先级\n",
    "sys.path.insert(1, os.getcwd())\n",
    "\n",
    "# 查看修改后的 Python 搜索路径\n",
    "paths = sys.path\n",
    "for path in paths:\n",
    "    print(path)"
   ]
  },
  {
   "cell_type": "code",
   "execution_count": null,
   "metadata": {},
   "outputs": [],
   "source": []
  }
 ],
 "metadata": {
  "kernelspec": {
   "display_name": "Python 3",
   "language": "python",
   "name": "python3"
  },
  "language_info": {
   "codemirror_mode": {
    "name": "ipython",
    "version": 3
   },
   "file_extension": ".py",
   "mimetype": "text/x-python",
   "name": "python",
   "nbconvert_exporter": "python",
   "pygments_lexer": "ipython3",
   "version": "3.11.4"
  }
 },
 "nbformat": 4,
 "nbformat_minor": 2
}
