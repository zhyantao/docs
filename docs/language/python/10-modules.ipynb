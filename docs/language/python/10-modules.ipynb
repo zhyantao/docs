{
 "cells": [
  {
   "cell_type": "markdown",
   "metadata": {},
   "source": [
    "# 模块和包\n",
    "\n",
    "在 Python 中，我们 **把一个文件看做一个模块，把一个包含 `__init__.py` 文件的目录看做包**，使用 `import` 语句可以在其他文件中导入模块。"
   ]
  },
  {
   "cell_type": "code",
   "execution_count": null,
   "metadata": {},
   "outputs": [],
   "source": [
    "from modules_and_packages import mymodule\n",
    "\n",
    "mymodule.my_func()"
   ]
  },
  {
   "cell_type": "markdown",
   "metadata": {},
   "source": [
    "你如果在 PyCharm 中编辑代码，很多环境问题可能不会碰到，因为 PyCharm 已经作为一个沙箱帮你部署好了。但是如果你正在使用命令行工具运行代码，比如 PowerShell，很可能会遇到下面这种报错：\n",
    "\n",
    "```bash\n",
    "ModuleNotFoundError: \n",
    "```\n",
    "\n",
    "这通常是因为 Python 解释器找不到 `.py` 文件了。这时候，你应该检查下面几个注意事项：\n",
    "\n",
    "1. 是不是在在项目的根目录下运行 `python example.py`\n",
    "2. 检查当前 Python 的搜索路径是否包含了那个找不到的 `.py` 文件"
   ]
  },
  {
   "cell_type": "code",
   "execution_count": null,
   "metadata": {},
   "outputs": [],
   "source": []
  }
 ],
 "metadata": {
  "language_info": {
   "name": "python"
  }
 },
 "nbformat": 4,
 "nbformat_minor": 2
}
