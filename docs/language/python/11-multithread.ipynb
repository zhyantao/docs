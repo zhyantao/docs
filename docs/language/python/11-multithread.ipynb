{
 "cells": [
  {
   "cell_type": "markdown",
   "metadata": {},
   "source": [
    "# 多线程"
   ]
  },
  {
   "cell_type": "markdown",
   "metadata": {},
   "source": [
    "在这个例子中，难点是如何使用 CTRL-C 终止多线程。这是因为多线程运行时，CTRL-C 只能终止主线程，而不能终止子线程。另外需要注意的是，如果你用到了 `subprocess.Popen()` 函数，那么 CTRL-C 发出的 `SIGINT` 信号同样无法被 `subprocess` 接收到，你需要单独用 `proc.terminate()` 函数来单独终止由 `subprocess` 创建的进程。"
   ]
  },
  {
   "cell_type": "markdown",
   "metadata": {},
   "source": [
    "## 问题描述\n",
    "\n",
    "1. 使用两个线程。\n",
    "2. 线程二阻塞等待线程一提出问题。\n",
    "3. 线程一提出问题，阻塞等待线程二回答。\n",
    "4. 线程二回答线程一的问题，然后阻塞等待线程一继续提问。\n",
    "5. 线程一打印线程二的回答，然后提出新的问题，阻塞等待线程二回答。\n",
    "6. 重复步骤 4 和步骤 5。"
   ]
  },
  {
   "cell_type": "markdown",
   "metadata": {},
   "source": [
    "## 具体实现"
   ]
  },
  {
   "cell_type": "code",
   "execution_count": 2,
   "metadata": {},
   "outputs": [
    {
     "name": "stdout",
     "output_type": "stream",
     "text": [
      "Starting Thread-Q\n",
      "Starting Thread-A\n",
      "Thread-Q: What is your name?\n",
      "Thread-A: Sam\n",
      "Thread-Q: Where are you from?\n",
      "Thread-A: China\n",
      "Thread-Q: How's the weather today?\n",
      "Thread-A: Sunny\n",
      "Thread-Q: What day is it today?\n",
      "Thread-A: Friday\n",
      "Thread-Q: Do you like fruits?\n",
      "Thread-A: Yes\n",
      "Exiting Thread-Q\n",
      "Exiting Thread-A\n",
      "Exiting Main Thread\n"
     ]
    }
   ],
   "source": [
    "import queue\n",
    "import signal\n",
    "import threading\n",
    "\n",
    "exitFlag = False\n",
    "stopFlag = False\n",
    "\n",
    "threadList = [\"Thread-Q\", \"Thread-A\"]\n",
    "threads = []\n",
    "\n",
    "questionQueueLock = threading.Lock()\n",
    "questionQueue = queue.Queue(10)\n",
    "answerQueue = queue.Queue(10)\n",
    "questionList = [\n",
    "    \"What is your name?\",\n",
    "    \"Where are you from?\",\n",
    "    \"How's the weather today?\",\n",
    "    \"What day is it today?\",\n",
    "    \"Do you like fruits?\",\n",
    "]\n",
    "answerList = [\"Sam\", \"China\", \"Sunny\", \"Friday\", \"Yes\"]\n",
    "for answer in answerList:\n",
    "    answerQueue.put(answer)\n",
    "\n",
    "\n",
    "# 多线程的 CTRL-C 事件需要单独处理，才能让多线程正常退出\n",
    "def interrupt_handler(signum, frame):\n",
    "    global stopFlag\n",
    "    stopFlag = True  # stop child thread\n",
    "    print(\"receive a signal %d, stopFlag = %d\" % (signum, stopFlag))\n",
    "\n",
    "\n",
    "class myThread(threading.Thread):\n",
    "    def __init__(self, threadId, name, q):\n",
    "        threading.Thread.__init__(self)\n",
    "        self.threadId = threadId\n",
    "        self.name = name\n",
    "        self.q = q\n",
    "\n",
    "    def run(self):\n",
    "        print(\"Starting \" + self.name)\n",
    "        process_data(self.name, self.q)\n",
    "        print(\"Exiting \" + self.name)\n",
    "\n",
    "\n",
    "def process_data(threadName, q):\n",
    "    while not exitFlag and not stopFlag:\n",
    "        questionQueueLock.acquire()\n",
    "        if threadName == \"Thread-Q\" and not questionQueue.empty():\n",
    "            question = q.get()\n",
    "            questionQueueLock.release()\n",
    "            question_answered.wait()  # P(a)\n",
    "            question_answered.clear()\n",
    "            print(\"Thread-Q: \" + question)\n",
    "            question_asked.set()  # V(q)\n",
    "        elif threadName == \"Thread-A\" and not answerQueue.empty():\n",
    "            questionQueueLock.release()\n",
    "            question_asked.wait()  # P(q)\n",
    "            question_asked.clear()\n",
    "            print(\"Thread-A: \" + answerQueue.get())\n",
    "            question_answered.set()  # V(a)\n",
    "        else:\n",
    "            questionQueueLock.release()\n",
    "\n",
    "\n",
    "if __name__ == \"__main__\":\n",
    "    signal.signal(signal.SIGINT, interrupt_handler)\n",
    "    # 创建同步事件\n",
    "    question_asked = threading.Event()\n",
    "    question_answered = threading.Event()\n",
    "    question_answered.set()  # 让 question_asked 先运行，破除死锁\n",
    "\n",
    "    # 创建新线程\n",
    "    threadId = 1\n",
    "    for tName in threadList:\n",
    "        thread = myThread(threadId, tName, questionQueue)\n",
    "        thread.daemon = True\n",
    "        thread.start()\n",
    "        threads.append(thread)\n",
    "        threadId += 1\n",
    "\n",
    "    # 填充队列\n",
    "    questionQueueLock.acquire()\n",
    "    for question in questionList:\n",
    "        questionQueue.put(question)\n",
    "    questionQueueLock.release()\n",
    "\n",
    "    # 主线程退出逻辑\n",
    "    while True:\n",
    "        # 问题队列和答案队列全部为空，会导致子线程相继退出\n",
    "        if questionQueue.empty() and answerQueue.empty():\n",
    "            exitFlag = True\n",
    "\n",
    "        # 子线程全部退出 alive = False\n",
    "        alive = False\n",
    "        for thread in threads:\n",
    "            alive = alive or thread.is_alive()\n",
    "        if not alive:\n",
    "            break\n",
    "    print(\"Exiting Main Thread\")"
   ]
  }
 ],
 "metadata": {
  "kernelspec": {
   "display_name": "Python 3",
   "language": "python",
   "name": "python3"
  },
  "language_info": {
   "codemirror_mode": {
    "name": "ipython",
    "version": 3
   },
   "file_extension": ".py",
   "mimetype": "text/x-python",
   "name": "python",
   "nbconvert_exporter": "python",
   "pygments_lexer": "ipython3",
   "version": "3.11.4"
  }
 },
 "nbformat": 4,
 "nbformat_minor": 2
}
