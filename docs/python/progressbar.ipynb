{
 "cells": [
  {
   "cell_type": "markdown",
   "id": "432f5a8b-97ac-41d0-8be2-aba0096881dc",
   "metadata": {},
   "source": [
    "# ProgressBar"
   ]
  },
  {
   "cell_type": "markdown",
   "id": "a022a2bf-f8f2-4e03-82b0-f5f9f4509b00",
   "metadata": {},
   "source": [
    "如何使用 tqdm 生成进度条，参考下面的补丁：<https://gitee.com/zhyantao/misc/commit/4305f7a3fe68357d5acb34e5183a437b17dee3ae>\n",
    "\n",
    "\n",
    "```diff\n",
    "diff --git a/scripts/extract_persons.py b/scripts/extract_persons.py\n",
    "index dd787af2dcb04f332defd52554119248706c004a..adf7d6ff64d37d9b098d217f6d00133b83f2a20f 100644\n",
    "--- a/scripts/extract_persons.py\n",
    "+++ b/scripts/extract_persons.py\n",
    "@@ -2,8 +2,10 @@ import cv2\n",
    " import numpy as np\n",
    " import os\n",
    " import requests\n",
    "+from tqdm import tqdm\n",
    " \n",
    " yolo_files_dir = \"yolo_files\"  # YOLO 文件存放目录\n",
    "+video_dir = f\"{yolo_files_dir}/videos\"  # 视频文件存放目录\n",
    " \n",
    " \n",
    " def download_file(url, save_path):\n",
    "@@ -100,9 +102,15 @@ def detect_objects(frame, net, output_layers, classes):\n",
    "     return boxes, confidences, class_ids, indexes\n",
    " \n",
    " \n",
    "-def extract_persons(\n",
    "-    video_path, output_folder=\"extracted_persons\", frame_interval=300\n",
    "-):\n",
    "+def format_progress_bar(progress, bar_length=100):\n",
    "+    \"\"\"格式化进度条为 |########         | 94% 的形式\"\"\"\n",
    "+    filled_length = int(round(bar_length * progress))\n",
    "+    bar = \"#\" * filled_length + \" \" * (bar_length - filled_length)\n",
    "+    percent = round(progress * 100, 2)\n",
    "+    return f\"|{bar}| {percent}%\"\n",
    "+\n",
    "+\n",
    "+def extract_persons(video_path, output_folder=\"extracted_persons\", frame_interval=300):\n",
    "     # 创建输出文件夹\n",
    "     if not os.path.exists(output_folder):\n",
    "         os.makedirs(output_folder)\n",
    "@@ -176,6 +184,11 @@ def extract_persons(\n",
    " \n",
    "         frame_count += 1\n",
    " \n",
    "+        # 使用 tqdm 显示处理进度\n",
    "+        progress = frame_count / total_frames\n",
    "+        progress_bar = format_progress_bar(progress)\n",
    "+        print(f\"\\r处理进度: {progress_bar}\", end=\"\", flush=True)\n",
    "+\n",
    "     cap.release()\n",
    "     print(f\"提取完成！共提取到 {saved_frame_count} 张人像图片。\")\n",
    " \n",
    "@@ -190,7 +203,6 @@ if __name__ == \"__main__\":\n",
    "     download_yolo_files()\n",
    " \n",
    "     # 将需要检测的视频文件放在 videos 目录下\n",
    "-    video_dir = f\"{yolo_files_dir}/videos\"\n",
    "     os.makedirs(video_dir, exist_ok=True)\n",
    " \n",
    "     # 枚举 video_dir 下的 mp4 文件\n",
    "```"
   ]
  },
  {
   "cell_type": "code",
   "execution_count": null,
   "id": "2286061d-994d-4e06-96ef-c58176a85668",
   "metadata": {},
   "outputs": [],
   "source": []
  }
 ],
 "metadata": {
  "kernelspec": {
   "display_name": "Python 3 (ipykernel)",
   "language": "python",
   "name": "python3"
  },
  "language_info": {
   "codemirror_mode": {
    "name": "ipython",
    "version": 3
   },
   "file_extension": ".py",
   "mimetype": "text/x-python",
   "name": "python",
   "nbconvert_exporter": "python",
   "pygments_lexer": "ipython3",
   "version": "3.12.8"
  }
 },
 "nbformat": 4,
 "nbformat_minor": 5
}
