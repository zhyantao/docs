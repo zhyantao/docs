{
 "cells": [
  {
   "cell_type": "markdown",
   "metadata": {},
   "source": [
    "# 函数"
   ]
  },
  {
   "cell_type": "code",
   "execution_count": 1,
   "metadata": {},
   "outputs": [
    {
     "name": "stdout",
     "output_type": "stream",
     "text": [
      "x is: 60\n",
      "change local x to 3\n",
      "value of x is 3\n"
     ]
    }
   ],
   "source": [
    "# Function\n",
    "x = 60\n",
    "\n",
    "def foo():\n",
    "    global x\n",
    "    print(\"x is: \" + str(x))\n",
    "    x = 3\n",
    "    print(\"change local x to \" + str(x))\n",
    "\n",
    "foo()\n",
    "print('value of x is' , str(x))"
   ]
  },
  {
   "cell_type": "code",
   "execution_count": 2,
   "metadata": {},
   "outputs": [
    {
     "name": "stdout",
     "output_type": "stream",
     "text": [
      "Happy Birthday!\n",
      "Happy Birthday!Happy Birthday!Happy Birthday!Happy Birthday!\n"
     ]
    }
   ],
   "source": [
    "# 默认参数\n",
    "def repeat_str(s, times = 1):\n",
    "    repeated_strs = s * times\n",
    "    return repeated_strs\n",
    "\n",
    "repeated_strings = repeat_str(\"Happy Birthday!\")\n",
    "print(repeated_strings)\n",
    "\n",
    "repeated_strings_2 = repeat_str(\"Happy Birthday!\" , 4)\n",
    "print(repeated_strings_2)"
   ]
  },
  {
   "cell_type": "code",
   "execution_count": 3,
   "metadata": {},
   "outputs": [
    {
     "name": "stdout",
     "output_type": "stream",
     "text": [
      "a is 13 and b is 17 and c is 8\n",
      "a is 125 and b is 4 and c is 24\n",
      "a is 80 and b is 4 and c is 40\n"
     ]
    }
   ],
   "source": [
    "# 关键字参数: 调用函数时，选择性的传入部分参数\n",
    "def func(a, b = 4, c = 8):\n",
    "    print('a is', a, 'and b is', b, 'and c is', c)\n",
    "\n",
    "func(13, 17)\n",
    "func(125, c = 24)\n",
    "func(c = 40, a = 80)"
   ]
  },
  {
   "cell_type": "code",
   "execution_count": 4,
   "metadata": {},
   "outputs": [
    {
     "name": "stdout",
     "output_type": "stream",
     "text": [
      "fpara: hello\n",
      "nums: (1, 3, 5, 7)\n",
      "words: {'word': 'python', 'anohter_word': 'java'}\n"
     ]
    }
   ],
   "source": [
    "# 可变长参数\n",
    "def var_paras(fpara, *nums, **words):\n",
    "    print(\"fpara: \" + str(fpara))\n",
    "    print(\"nums: \" + str(nums))\n",
    "    print(\"words: \" + str(words))\n",
    "\n",
    "var_paras(\"hello\", 1, 3, 5, 7, word = \"python\", anohter_word = \"java\")"
   ]
  }
 ],
 "metadata": {
  "kernelspec": {
   "display_name": "Python 3",
   "language": "python",
   "name": "python3"
  },
  "language_info": {
   "codemirror_mode": {
    "name": "ipython",
    "version": 3
   },
   "file_extension": ".py",
   "mimetype": "text/x-python",
   "name": "python",
   "nbconvert_exporter": "python",
   "pygments_lexer": "ipython3",
   "version": "3.7.4"
  }
 },
 "nbformat": 4,
 "nbformat_minor": 4
}
