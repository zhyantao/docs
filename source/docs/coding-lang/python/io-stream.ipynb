{
 "cells": [
  {
   "cell_type": "markdown",
   "metadata": {},
   "source": [
    "# IO 流"
   ]
  },
  {
   "cell_type": "code",
   "execution_count": 1,
   "metadata": {},
   "outputs": [
    {
     "name": "stdout",
     "output_type": "stream",
     "text": [
      "Enter a string: abcdefg\n",
      "Enter another string: 123456\n",
      "str_1 is: abcdefg. str_2 is: 123456\n",
      "str_1 is: abcdefg. str_2 is: 123456\n"
     ]
    }
   ],
   "source": [
    "# IO stream\n",
    "str_1 = input(\"Enter a string: \")\n",
    "str_2 = input(\"Enter another string: \")\n",
    "\n",
    "print(\"str_1 is: \" + str_1 + \". str_2 is: \" + str_2)\n",
    "print(\"str_1 is: {}. str_2 is: {}\".format(str_1, str_2))"
   ]
  },
  {
   "cell_type": "code",
   "execution_count": null,
   "metadata": {},
   "outputs": [],
   "source": []
  }
 ],
 "metadata": {
  "kernelspec": {
   "display_name": "Python 3 (ipykernel)",
   "language": "python",
   "name": "python3"
  },
  "language_info": {
   "codemirror_mode": {
    "name": "ipython",
    "version": 3
   },
   "file_extension": ".py",
   "mimetype": "text/x-python",
   "name": "python",
   "nbconvert_exporter": "python",
   "pygments_lexer": "ipython3",
   "version": "3.7.10"
  }
 },
 "nbformat": 4,
 "nbformat_minor": 4
}
