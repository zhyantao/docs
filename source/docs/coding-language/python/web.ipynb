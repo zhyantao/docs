{
 "cells": [
  {
   "cell_type": "markdown",
   "metadata": {},
   "source": [
    "# Python Web"
   ]
  },
  {
   "cell_type": "code",
   "execution_count": 1,
   "metadata": {},
   "outputs": [],
   "source": [
    "! pip install web.py"
   ]
  },
  {
   "cell_type": "markdown",
   "metadata": {},
   "source": [
    "`%%writefile` 是 Jupyter Notebook 的一个[魔法命令](https://ipython.readthedocs.io/en/stable/interactive/magics.html)，表示将下面的内容写入到 app.py 文件中。"
   ]
  },
  {
   "cell_type": "code",
   "execution_count": 2,
   "metadata": {},
   "outputs": [
    {
     "name": "stdout",
     "output_type": "stream",
     "text": [
      "Overwriting app.py\n"
     ]
    }
   ],
   "source": [
    "%%writefile app.py\n",
    "import web\n",
    "\n",
    "urls = ( '/', 'index' )\n",
    "app = web.application(urls, globals())\n",
    "\n",
    "class index:\n",
    "    def GET(self):\n",
    "        greeting = \"Hello World\"\n",
    "        return greeting\n",
    "\n",
    "if __name__ == \"__main__\":\n",
    "    app.run()"
   ]
  },
  {
   "cell_type": "markdown",
   "metadata": {},
   "source": [
    "`%run` 也是 Jupyter Notebook 的魔法命令，它将会执行 `app.py` 文件（使用 8081 端口）。\n",
    "但是，下面这一行代码一旦运行就不会停止，因此上传代码到 Readthedocs 后就会在编译时卡住，这里就给它先注释掉了。"
   ]
  },
  {
   "cell_type": "code",
   "execution_count": 3,
   "metadata": {},
   "outputs": [],
   "source": [
    "# %run app.py 8081"
   ]
  },
  {
   "cell_type": "markdown",
   "metadata": {},
   "source": [
    "\n",
    "使用这段程序时，应当解开上面一行代码的注释，然后访问 <http://localhost:8081/>，就可以看到 Hello world 被成功打印了。"
   ]
  }
 ],
 "metadata": {
  "kernelspec": {
   "display_name": "Python 3 (ipykernel)",
   "language": "python",
   "name": "python3"
  },
  "language_info": {
   "codemirror_mode": {
    "name": "ipython",
    "version": 3
   },
   "file_extension": ".py",
   "mimetype": "text/x-python",
   "name": "python",
   "nbconvert_exporter": "python",
   "pygments_lexer": "ipython3",
   "version": "3.7.10"
  }
 },
 "nbformat": 4,
 "nbformat_minor": 4
}
