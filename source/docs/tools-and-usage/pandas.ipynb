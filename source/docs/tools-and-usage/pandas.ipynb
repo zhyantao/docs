{
 "cells": [
  {
   "cell_type": "markdown",
   "id": "28aa1f80",
   "metadata": {},
   "source": [
    "# Pandas 入门"
   ]
  },
  {
   "cell_type": "markdown",
   "id": "07c6654f",
   "metadata": {},
   "source": [
    "Pandas 是 Python 的一个第三方库，主要用于数据预处理，比如数据集中的 **缺失项** 和 **异常项**。"
   ]
  },
  {
   "cell_type": "markdown",
   "id": "217d8f2c",
   "metadata": {},
   "source": [
    "## 读取数据集"
   ]
  },
  {
   "cell_type": "code",
   "execution_count": 1,
   "id": "c40d3fbc",
   "metadata": {},
   "outputs": [],
   "source": [
    "import os\n",
    "\n",
    "with open('house_tiny.csv', 'w') as f:\n",
    "    f.write('NumRooms,Alley,Price\\n')  # 列名\n",
    "    f.write('NA,Pave,127500\\n')  # 每行表示一个数据样本\n",
    "    f.write('2,NA,106000\\n')\n",
    "    f.write('4,NA,178100\\n')\n",
    "    f.write('NA,NA,140000\\n')"
   ]
  },
  {
   "cell_type": "code",
   "execution_count": 2,
   "id": "726deeed",
   "metadata": {},
   "outputs": [
    {
     "name": "stdout",
     "output_type": "stream",
     "text": [
      "Looking in indexes: https://pypi.tuna.tsinghua.edu.cn/simple\n",
      "Requirement already satisfied: pandas in d:\\programdata\\miniconda3\\lib\\site-packages (1.3.4)\n",
      "Requirement already satisfied: pytz>=2017.3 in d:\\programdata\\miniconda3\\lib\\site-packages (from pandas) (2021.3)\n",
      "Requirement already satisfied: python-dateutil>=2.7.3 in d:\\programdata\\miniconda3\\lib\\site-packages (from pandas) (2.8.2)\n",
      "Requirement already satisfied: numpy>=1.17.3 in d:\\programdata\\miniconda3\\lib\\site-packages (from pandas) (1.21.4)\n",
      "Requirement already satisfied: six>=1.5 in d:\\programdata\\miniconda3\\lib\\site-packages (from python-dateutil>=2.7.3->pandas) (1.16.0)\n"
     ]
    }
   ],
   "source": [
    "! pip install pandas"
   ]
  },
  {
   "cell_type": "code",
   "execution_count": 3,
   "id": "70e852a4",
   "metadata": {},
   "outputs": [
    {
     "name": "stdout",
     "output_type": "stream",
     "text": [
      "   NumRooms Alley   Price\n",
      "0       NaN  Pave  127500\n",
      "1       2.0   NaN  106000\n",
      "2       4.0   NaN  178100\n",
      "3       NaN   NaN  140000\n"
     ]
    }
   ],
   "source": [
    "import pandas as pd\n",
    "\n",
    "data = pd.read_csv('house_tiny.csv')\n",
    "print(data)"
   ]
  },
  {
   "cell_type": "markdown",
   "id": "7d22958b",
   "metadata": {},
   "source": [
    "## 处理缺失值"
   ]
  },
  {
   "cell_type": "markdown",
   "id": "39233dff",
   "metadata": {},
   "source": [
    "Pandas 中“NaN”表示缺失项，一般用插值法或删除法处理。"
   ]
  },
  {
   "cell_type": "code",
   "execution_count": 4,
   "id": "9b03e6c3",
   "metadata": {},
   "outputs": [
    {
     "name": "stdout",
     "output_type": "stream",
     "text": [
      "   NumRooms Alley\n",
      "0       3.0  Pave\n",
      "1       2.0   NaN\n",
      "2       4.0   NaN\n",
      "3       3.0   NaN\n"
     ]
    },
    {
     "name": "stderr",
     "output_type": "stream",
     "text": [
      "D:\\ProgramData\\Miniconda3\\lib\\site-packages\\ipykernel_launcher.py:2: FutureWarning: Dropping of nuisance columns in DataFrame reductions (with 'numeric_only=None') is deprecated; in a future version this will raise TypeError.  Select only valid columns before calling the reduction.\n",
      "  \n"
     ]
    }
   ],
   "source": [
    "inputs, outputs = data.iloc[:, 0:2], data.iloc[:, 2] # iloc 切片将数据分成两部分\n",
    "inputs = inputs.fillna(inputs.mean())\n",
    "print(inputs)"
   ]
  },
  {
   "cell_type": "markdown",
   "id": "309cc39d",
   "metadata": {},
   "source": [
    "以下代码应用了插值法，对于连续值中的“NaN”项可用均值替换，对于离散值中的“NaN”项，Pandas 将自动创建一个 NaN 列，并将其值置为 1。"
   ]
  },
  {
   "cell_type": "code",
   "execution_count": 5,
   "id": "7636655a",
   "metadata": {},
   "outputs": [
    {
     "name": "stdout",
     "output_type": "stream",
     "text": [
      "   NumRooms  Alley_Pave  Alley_nan\n",
      "0       3.0           1          0\n",
      "1       2.0           0          1\n",
      "2       4.0           0          1\n",
      "3       3.0           0          1\n"
     ]
    }
   ],
   "source": [
    "inputs = pd.get_dummies(inputs, dummy_na=True)\n",
    "print(inputs)"
   ]
  },
  {
   "cell_type": "code",
   "execution_count": 7,
   "id": "beeeff27",
   "metadata": {},
   "outputs": [
    {
     "data": {
      "text/plain": [
       "numpy.ndarray"
      ]
     },
     "execution_count": 7,
     "metadata": {},
     "output_type": "execute_result"
    }
   ],
   "source": [
    "type(inputs.values) # 后面可以通过类型转换，将其转换为张量，供神经网络框架使用了。"
   ]
  },
  {
   "cell_type": "code",
   "execution_count": null,
   "id": "4be2c29e",
   "metadata": {},
   "outputs": [],
   "source": []
  }
 ],
 "metadata": {
  "kernelspec": {
   "display_name": "Python [conda env:root]",
   "language": "python",
   "name": "conda-root-py"
  },
  "language_info": {
   "codemirror_mode": {
    "name": "ipython",
    "version": 3
   },
   "file_extension": ".py",
   "mimetype": "text/x-python",
   "name": "python",
   "nbconvert_exporter": "python",
   "pygments_lexer": "ipython3",
   "version": "3.7.10"
  }
 },
 "nbformat": 4,
 "nbformat_minor": 5
}
